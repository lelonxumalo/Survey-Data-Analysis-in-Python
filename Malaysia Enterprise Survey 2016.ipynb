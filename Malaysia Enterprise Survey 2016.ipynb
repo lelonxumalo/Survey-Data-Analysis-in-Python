{
 "cells": [
  {
   "cell_type": "markdown",
   "metadata": {},
   "source": [
    "# Malaysia"
   ]
  },
  {
   "cell_type": "markdown",
   "metadata": {},
   "source": [
    "## Calculate and visualize average enterprise age across Malaysia\n",
    "The data below is from the World Bank's Enterprise Survey - (2015-2016). It's [available](https://enterprisesurveys.org/portal/index.aspx) on the WB ES webiste.\n",
    "\n",
    "With any survey data, sample weights are important to generalize from the sample to the population.\n",
    "\n",
    "- **Objective: Calculate and visualize average firm age across Malaysia's regions**"
   ]
  },
  {
   "cell_type": "code",
   "execution_count": 195,
   "metadata": {
    "scrolled": true
   },
   "outputs": [
    {
     "name": "stdout",
     "output_type": "stream",
     "text": [
      "Populating the interactive namespace from numpy and matplotlib\n"
     ]
    },
    {
     "name": "stderr",
     "output_type": "stream",
     "text": [
      "C:\\ProgramData\\Anaconda3\\lib\\site-packages\\IPython\\core\\magics\\pylab.py:160: UserWarning: pylab import has clobbered these variables: ['plt']\n",
      "`%matplotlib` prevents importing * from pylab and numpy\n",
      "  \"\\n`%matplotlib` prevents importing * from pylab and numpy\"\n"
     ]
    }
   ],
   "source": [
    "import pandas as pd\n",
    "import numpy as np\n",
    "import geopandas as gpd\n",
    "import requests\n",
    "from shapely.geometry import Point\n",
    "import pylab as plt\n",
    "%pylab inline\n",
    "import seaborn as sns\n",
    "import mplleaflet as mpll\n",
    "import osmnx as ox\n",
    "from IPython.display import Image\n",
    "import matplotlib.pyplot as plt2"
   ]
  },
  {
   "cell_type": "code",
   "execution_count": 141,
   "metadata": {},
   "outputs": [
    {
     "data": {
      "text/plain": [
       "<matplotlib.axes._subplots.AxesSubplot at 0x24414aecfd0>"
      ]
     },
     "execution_count": 141,
     "metadata": {},
     "output_type": "execute_result"
    },
    {
     "data": {
      "image/png": "[encoded data removed]",
      "text/plain": [
       "<Figure size 432x288 with 1 Axes>"
      ]
     },
     "metadata": {
      "needs_background": "light"
     },
     "output_type": "display_data"
    }
   ],
   "source": [
    "malaysia_GADM = gpd.read_file('data/malaysia/gadm36_MYS_1.shp')\n",
    "malaysia_GADM.plot()"
   ]
  },
  {
   "cell_type": "code",
   "execution_count": 142,
   "metadata": {},
   "outputs": [
    {
     "data": {
      "text/plain": [
       "Kedah              1\n",
       "Selangor           1\n",
       "Perak              1\n",
       "Negeri Sembilan    1\n",
       "Sarawak            1\n",
       "Trengganu          1\n",
       "Melaka             1\n",
       "Johor              1\n",
       "Labuan             1\n",
       "Pulau Pinang       1\n",
       "Kuala Lumpur       1\n",
       "Putrajaya          1\n",
       "Perlis             1\n",
       "Kelantan           1\n",
       "Pahang             1\n",
       "Sabah              1\n",
       "Name: NAME_1, dtype: int64"
      ]
     },
     "execution_count": 142,
     "metadata": {},
     "output_type": "execute_result"
    }
   ],
   "source": [
    "# List MYS regions on GADM\n",
    "malaysia_GADM['NAME_1'].value_counts()"
   ]
  },
  {
   "cell_type": "code",
   "execution_count": 143,
   "metadata": {},
   "outputs": [],
   "source": [
    "East_Malaysia = ['Sarawak','Labuan','Sabah']\n",
    "North = ['Kedah', 'Perak', 'Pulau Pinang', 'Perlis']\n",
    "East_Coast = ['Trengganu', 'Kelantan', 'Pahang']\n",
    "South = ['Johor']\n",
    "Central = ['Selangor', 'Negeri Sembilan', 'Kuala Lumpur', 'Putrajaya', 'Melaka']\n",
    "\n",
    "def remap_mystates(region):\n",
    "    if region in East_Malaysia:\n",
    "        return('East Malaysia')\n",
    "    elif region in North:\n",
    "        return('North')\n",
    "    elif region in East_Coast:\n",
    "        return('East Coast')\n",
    "    elif region in South:\n",
    "        return('South')\n",
    "    elif region in Central:\n",
    "        return('Central')\n",
    "    else:\n",
    "        return('error!')"
   ]
  },
  {
   "cell_type": "code",
   "execution_count": 144,
   "metadata": {},
   "outputs": [
    {
     "data": {
      "text/html": [
       "<div>\n",
       "<style scoped>\n",
       "    .dataframe tbody tr th:only-of-type {\n",
       "        vertical-align: middle;\n",
       "    }\n",
       "\n",
       "    .dataframe tbody tr th {\n",
       "        vertical-align: top;\n",
       "    }\n",
       "\n",
       "    .dataframe thead th {\n",
       "        text-align: right;\n",
       "    }\n",
       "</style>\n",
       "<table border=\"1\" class=\"dataframe\">\n",
       "  <thead>\n",
       "    <tr style=\"text-align: right;\">\n",
       "      <th></th>\n",
       "      <th>region</th>\n",
       "      <th>size</th>\n",
       "      <th>own_domestic</th>\n",
       "      <th>own_foreign</th>\n",
       "      <th>own_gov</th>\n",
       "      <th>own_other</th>\n",
       "      <th>year_estab</th>\n",
       "      <th>weight</th>\n",
       "      <th>ageofbiz</th>\n",
       "    </tr>\n",
       "  </thead>\n",
       "  <tbody>\n",
       "    <tr>\n",
       "      <th>0</th>\n",
       "      <td>East Malaysia</td>\n",
       "      <td>Small</td>\n",
       "      <td>40</td>\n",
       "      <td>0</td>\n",
       "      <td>0</td>\n",
       "      <td>60</td>\n",
       "      <td>2014</td>\n",
       "      <td>97.214439</td>\n",
       "      <td>1</td>\n",
       "    </tr>\n",
       "    <tr>\n",
       "      <th>1</th>\n",
       "      <td>North</td>\n",
       "      <td>Medium</td>\n",
       "      <td>70</td>\n",
       "      <td>30</td>\n",
       "      <td>0</td>\n",
       "      <td>0</td>\n",
       "      <td>2014</td>\n",
       "      <td>66.450867</td>\n",
       "      <td>2</td>\n",
       "    </tr>\n",
       "    <tr>\n",
       "      <th>2</th>\n",
       "      <td>East Coast</td>\n",
       "      <td>Medium</td>\n",
       "      <td>100</td>\n",
       "      <td>0</td>\n",
       "      <td>0</td>\n",
       "      <td>0</td>\n",
       "      <td>2013</td>\n",
       "      <td>184.729750</td>\n",
       "      <td>2</td>\n",
       "    </tr>\n",
       "    <tr>\n",
       "      <th>3</th>\n",
       "      <td>East Coast</td>\n",
       "      <td>Medium</td>\n",
       "      <td>100</td>\n",
       "      <td>0</td>\n",
       "      <td>0</td>\n",
       "      <td>0</td>\n",
       "      <td>2013</td>\n",
       "      <td>5.526067</td>\n",
       "      <td>2</td>\n",
       "    </tr>\n",
       "    <tr>\n",
       "      <th>4</th>\n",
       "      <td>East Coast</td>\n",
       "      <td>Medium</td>\n",
       "      <td>100</td>\n",
       "      <td>0</td>\n",
       "      <td>0</td>\n",
       "      <td>0</td>\n",
       "      <td>2013</td>\n",
       "      <td>5.526067</td>\n",
       "      <td>2</td>\n",
       "    </tr>\n",
       "  </tbody>\n",
       "</table>\n",
       "</div>"
      ],
      "text/plain": [
       "          region    size  own_domestic  own_foreign  own_gov  own_other  \\\n",
       "0  East Malaysia   Small            40            0        0         60   \n",
       "1          North  Medium            70           30        0          0   \n",
       "2     East Coast  Medium           100            0        0          0   \n",
       "3     East Coast  Medium           100            0        0          0   \n",
       "4     East Coast  Medium           100            0        0          0   \n",
       "\n",
       "   year_estab      weight  ageofbiz  \n",
       "0        2014   97.214439         1  \n",
       "1        2014   66.450867         2  \n",
       "2        2013  184.729750         2  \n",
       "3        2013    5.526067         2  \n",
       "4        2013    5.526067         2  "
      ]
     },
     "execution_count": 144,
     "metadata": {},
     "output_type": "execute_result"
    }
   ],
   "source": [
    "df_my = pd.read_csv('data/malaysia/MYS_ES_2016.csv')\n",
    "df_my.head()"
   ]
  },
  {
   "cell_type": "code",
   "execution_count": 145,
   "metadata": {},
   "outputs": [],
   "source": [
    "df_my.rename(columns = {'own_domestic':'share_dom','own_foreign':'share_foreign','own_gov':'share_govt'}, inplace=True)"
   ]
  },
  {
   "cell_type": "code",
   "execution_count": 146,
   "metadata": {},
   "outputs": [
    {
     "data": {
      "text/html": [
       "<div>\n",
       "<style scoped>\n",
       "    .dataframe tbody tr th:only-of-type {\n",
       "        vertical-align: middle;\n",
       "    }\n",
       "\n",
       "    .dataframe tbody tr th {\n",
       "        vertical-align: top;\n",
       "    }\n",
       "\n",
       "    .dataframe thead th {\n",
       "        text-align: right;\n",
       "    }\n",
       "</style>\n",
       "<table border=\"1\" class=\"dataframe\">\n",
       "  <thead>\n",
       "    <tr style=\"text-align: right;\">\n",
       "      <th></th>\n",
       "      <th>region</th>\n",
       "      <th>size</th>\n",
       "      <th>share_dom</th>\n",
       "      <th>share_foreign</th>\n",
       "      <th>share_govt</th>\n",
       "      <th>own_other</th>\n",
       "      <th>year_estab</th>\n",
       "      <th>weight</th>\n",
       "      <th>ageofbiz</th>\n",
       "    </tr>\n",
       "  </thead>\n",
       "  <tbody>\n",
       "    <tr>\n",
       "      <th>0</th>\n",
       "      <td>East Malaysia</td>\n",
       "      <td>Small</td>\n",
       "      <td>40</td>\n",
       "      <td>0</td>\n",
       "      <td>0</td>\n",
       "      <td>60</td>\n",
       "      <td>2014</td>\n",
       "      <td>97.214439</td>\n",
       "      <td>1</td>\n",
       "    </tr>\n",
       "    <tr>\n",
       "      <th>1</th>\n",
       "      <td>North</td>\n",
       "      <td>Medium</td>\n",
       "      <td>70</td>\n",
       "      <td>30</td>\n",
       "      <td>0</td>\n",
       "      <td>0</td>\n",
       "      <td>2014</td>\n",
       "      <td>66.450867</td>\n",
       "      <td>2</td>\n",
       "    </tr>\n",
       "    <tr>\n",
       "      <th>2</th>\n",
       "      <td>East Coast</td>\n",
       "      <td>Medium</td>\n",
       "      <td>100</td>\n",
       "      <td>0</td>\n",
       "      <td>0</td>\n",
       "      <td>0</td>\n",
       "      <td>2013</td>\n",
       "      <td>184.729750</td>\n",
       "      <td>2</td>\n",
       "    </tr>\n",
       "    <tr>\n",
       "      <th>3</th>\n",
       "      <td>East Coast</td>\n",
       "      <td>Medium</td>\n",
       "      <td>100</td>\n",
       "      <td>0</td>\n",
       "      <td>0</td>\n",
       "      <td>0</td>\n",
       "      <td>2013</td>\n",
       "      <td>5.526067</td>\n",
       "      <td>2</td>\n",
       "    </tr>\n",
       "    <tr>\n",
       "      <th>4</th>\n",
       "      <td>East Coast</td>\n",
       "      <td>Medium</td>\n",
       "      <td>100</td>\n",
       "      <td>0</td>\n",
       "      <td>0</td>\n",
       "      <td>0</td>\n",
       "      <td>2013</td>\n",
       "      <td>5.526067</td>\n",
       "      <td>2</td>\n",
       "    </tr>\n",
       "  </tbody>\n",
       "</table>\n",
       "</div>"
      ],
      "text/plain": [
       "          region    size  share_dom  share_foreign  share_govt  own_other  \\\n",
       "0  East Malaysia   Small         40              0           0         60   \n",
       "1          North  Medium         70             30           0          0   \n",
       "2     East Coast  Medium        100              0           0          0   \n",
       "3     East Coast  Medium        100              0           0          0   \n",
       "4     East Coast  Medium        100              0           0          0   \n",
       "\n",
       "   year_estab      weight  ageofbiz  \n",
       "0        2014   97.214439         1  \n",
       "1        2014   66.450867         2  \n",
       "2        2013  184.729750         2  \n",
       "3        2013    5.526067         2  \n",
       "4        2013    5.526067         2  "
      ]
     },
     "execution_count": 146,
     "metadata": {},
     "output_type": "execute_result"
    }
   ],
   "source": [
    "df_my.head()"
   ]
  },
  {
   "cell_type": "markdown",
   "metadata": {},
   "source": [
    "#### 1. Inspect data and remove outliers"
   ]
  },
  {
   "cell_type": "code",
   "execution_count": 147,
   "metadata": {},
   "outputs": [
    {
     "data": {
      "text/plain": [
       "<matplotlib.axes._subplots.AxesSubplot at 0x2441c2d4cf8>"
      ]
     },
     "execution_count": 147,
     "metadata": {},
     "output_type": "execute_result"
    },
    {
     "data": {
      "image/png": "[encoded data removed]",
      "text/plain": [
       "<Figure size 432x288 with 1 Axes>"
      ]
     },
     "metadata": {
      "needs_background": "light"
     },
     "output_type": "display_data"
    }
   ],
   "source": [
    "# view the distribution of the age of firms\n",
    "df_my.ageofbiz.hist() "
   ]
  },
  {
   "cell_type": "code",
   "execution_count": 148,
   "metadata": {},
   "outputs": [
    {
     "data": {
      "text/plain": [
       "<matplotlib.axes._subplots.AxesSubplot at 0x2441c2afa20>"
      ]
     },
     "execution_count": 148,
     "metadata": {},
     "output_type": "execute_result"
    },
    {
     "data": {
      "image/png": "[encoded data removed]",
      "text/plain": [
       "<Figure size 576x288 with 1 Axes>"
      ]
     },
     "metadata": {
      "needs_background": "light"
     },
     "output_type": "display_data"
    }
   ],
   "source": [
    "# view box plots of ownership shares by type\n",
    "df_my[['share_foreign', 'share_dom', 'share_govt', 'own_other']].boxplot(figsize = [8,4])"
   ]
  },
  {
   "cell_type": "code",
   "execution_count": 149,
   "metadata": {},
   "outputs": [
    {
     "data": {
      "text/plain": [
       "<matplotlib.axes._subplots.AxesSubplot at 0x2441c2e0d68>"
      ]
     },
     "execution_count": 149,
     "metadata": {},
     "output_type": "execute_result"
    },
    {
     "data": {
      "image/png": "[encoded data removed]",
      "text/plain": [
       "<Figure size 288x288 with 1 Axes>"
      ]
     },
     "metadata": {
      "needs_background": "light"
     },
     "output_type": "display_data"
    }
   ],
   "source": [
    "# view box plots of age\n",
    "df_my[['ageofbiz']].boxplot(figsize = [4,4])"
   ]
  },
  {
   "cell_type": "code",
   "execution_count": 150,
   "metadata": {},
   "outputs": [
    {
     "name": "stdout",
     "output_type": "stream",
     "text": [
      "Oldest establishment in sample:  103\n",
      "The average (mean) age is:  19.196138211382113\n",
      "The average (median) age is:  17.0\n"
     ]
    }
   ],
   "source": [
    "print(\"Oldest establishment in sample: \", df_my.ageofbiz.max())\n",
    "print(\"The average (mean) age is: \", df_my.ageofbiz.mean())\n",
    "print(\"The average (median) age is: \", df_my.ageofbiz.median())"
   ]
  },
  {
   "cell_type": "code",
   "execution_count": 151,
   "metadata": {},
   "outputs": [
    {
     "name": "stderr",
     "output_type": "stream",
     "text": [
      "C:\\ProgramData\\Anaconda3\\lib\\site-packages\\ipykernel_launcher.py:3: SettingWithCopyWarning: \n",
      "A value is trying to be set on a copy of a slice from a DataFrame\n",
      "\n",
      "See the caveats in the documentation: http://pandas.pydata.org/pandas-docs/stable/indexing.html#indexing-view-versus-copy\n",
      "  This is separate from the ipykernel package so we can avoid doing imports until\n"
     ]
    }
   ],
   "source": [
    "# Remove observations more than 3 standard deviations above the mean age\n",
    "df_my['ageofbiz'][df_my['ageofbiz'] > (df_my.ageofbiz.mean()\n",
    "                                                     + df_my.ageofbiz.std() * 3)] = np.nan\n",
    "df_my.dropna(inplace = True)"
   ]
  },
  {
   "cell_type": "code",
   "execution_count": 153,
   "metadata": {},
   "outputs": [
    {
     "data": {
      "text/plain": [
       "<matplotlib.axes._subplots.AxesSubplot at 0x2441c2e83c8>"
      ]
     },
     "execution_count": 153,
     "metadata": {},
     "output_type": "execute_result"
    },
    {
     "data": {
      "image/png": "[encoded data removed]",
      "text/plain": [
       "<Figure size 432x288 with 1 Axes>"
      ]
     },
     "metadata": {
      "needs_background": "light"
     },
     "output_type": "display_data"
    }
   ],
   "source": [
    "# view the distribution of the age of firms again - the distribution is now more normal\n",
    "df_my.ageofbiz.hist()"
   ]
  },
  {
   "cell_type": "markdown",
   "metadata": {},
   "source": [
    "#### 2. Calculate mean age of establishment by region and size.\n",
    "\n",
    "The Pandas groupby function makes this easy. It does three things:\n",
    "* Split the data into groups.\n",
    "* Applie a function to each group independently (eg. sum, mean, counts).\n",
    "* Combine the results into a data structure."
   ]
  },
  {
   "cell_type": "code",
   "execution_count": 154,
   "metadata": {},
   "outputs": [
    {
     "data": {
      "text/plain": [
       "region\n",
       "Central          17.956204\n",
       "East Coast       19.046980\n",
       "East Malaysia    20.170213\n",
       "North            19.913462\n",
       "South            17.050000\n",
       "Name: ageofbiz, dtype: float64"
      ]
     },
     "execution_count": 154,
     "metadata": {},
     "output_type": "execute_result"
    }
   ],
   "source": [
    "df_my.groupby(['region'])['ageofbiz'].mean()"
   ]
  },
  {
   "cell_type": "code",
   "execution_count": 155,
   "metadata": {},
   "outputs": [
    {
     "data": {
      "text/plain": [
       "size\n",
       "Large     21.228873\n",
       "Medium    18.306709\n",
       "Small     17.053333\n",
       "Name: ageofbiz, dtype: float64"
      ]
     },
     "execution_count": 155,
     "metadata": {},
     "output_type": "execute_result"
    }
   ],
   "source": [
    "df_my.groupby(['size'])['ageofbiz'].mean()"
   ]
  },
  {
   "cell_type": "markdown",
   "metadata": {},
   "source": [
    "#### Use sample weights to get representative estimates"
   ]
  },
  {
   "cell_type": "code",
   "execution_count": 156,
   "metadata": {},
   "outputs": [],
   "source": [
    "def weighted_mean(values, weights):\n",
    "    return sum(values * weights) / weights.sum()"
   ]
  },
  {
   "cell_type": "code",
   "execution_count": 157,
   "metadata": {},
   "outputs": [
    {
     "data": {
      "text/plain": [
       "15.388496842942706"
      ]
     },
     "execution_count": 157,
     "metadata": {},
     "output_type": "execute_result"
    }
   ],
   "source": [
    "weighted_mean(values = df_my.ageofbiz[df_my.region == 'Central'],\n",
    "             weights = df_my.weight[df_my.region == 'Central'])"
   ]
  },
  {
   "cell_type": "code",
   "execution_count": 158,
   "metadata": {},
   "outputs": [],
   "source": [
    "weighted_means_table = pd.Series({region: weighted_mean(df_my.ageofbiz[df_my.region == region],\n",
    "                                  df_my.weight[df_my.region == region]) for region in df_my.region.unique()},\n",
    "                                name = 'mean_ageofbiz')"
   ]
  },
  {
   "cell_type": "code",
   "execution_count": 159,
   "metadata": {},
   "outputs": [
    {
     "data": {
      "text/plain": [
       "East Malaysia    17.978777\n",
       "North            20.542607\n",
       "East Coast       13.634069\n",
       "South            13.059007\n",
       "Central          15.388497\n",
       "Name: mean_ageofbiz, dtype: float64"
      ]
     },
     "execution_count": 159,
     "metadata": {},
     "output_type": "execute_result"
    }
   ],
   "source": [
    "weighted_means_table.head()"
   ]
  },
  {
   "cell_type": "code",
   "execution_count": 160,
   "metadata": {},
   "outputs": [
    {
     "data": {
      "image/png": "[encoded data removed]",
      "text/plain": [
       "<Figure size 432x288 with 1 Axes>"
      ]
     },
     "metadata": {
      "needs_background": "light"
     },
     "output_type": "display_data"
    }
   ],
   "source": [
    "weighted_means_table.sort_values(ascending = True).plot(kind='barh')\n",
    "plt.title('Average age of establishment by region');"
   ]
  },
  {
   "cell_type": "code",
   "execution_count": 161,
   "metadata": {},
   "outputs": [],
   "source": [
    "malaysia_GADM['region'] = malaysia_GADM.NAME_1.apply(remap_mystates)"
   ]
  },
  {
   "cell_type": "code",
   "execution_count": 162,
   "metadata": {},
   "outputs": [],
   "source": [
    "# Create a new geodataframe comprising merged polygons\n",
    "\n",
    "regions = malaysia_GADM.dissolve(by = 'region')"
   ]
  },
  {
   "cell_type": "code",
   "execution_count": 163,
   "metadata": {},
   "outputs": [
    {
     "data": {
      "text/html": [
       "<div>\n",
       "<style scoped>\n",
       "    .dataframe tbody tr th:only-of-type {\n",
       "        vertical-align: middle;\n",
       "    }\n",
       "\n",
       "    .dataframe tbody tr th {\n",
       "        vertical-align: top;\n",
       "    }\n",
       "\n",
       "    .dataframe thead th {\n",
       "        text-align: right;\n",
       "    }\n",
       "</style>\n",
       "<table border=\"1\" class=\"dataframe\">\n",
       "  <thead>\n",
       "    <tr style=\"text-align: right;\">\n",
       "      <th></th>\n",
       "      <th>geometry</th>\n",
       "      <th>GID_0</th>\n",
       "      <th>NAME_0</th>\n",
       "      <th>GID_1</th>\n",
       "      <th>NAME_1</th>\n",
       "      <th>VARNAME_1</th>\n",
       "      <th>NL_NAME_1</th>\n",
       "      <th>TYPE_1</th>\n",
       "      <th>ENGTYPE_1</th>\n",
       "      <th>CC_1</th>\n",
       "      <th>HASC_1</th>\n",
       "    </tr>\n",
       "    <tr>\n",
       "      <th>region</th>\n",
       "      <th></th>\n",
       "      <th></th>\n",
       "      <th></th>\n",
       "      <th></th>\n",
       "      <th></th>\n",
       "      <th></th>\n",
       "      <th></th>\n",
       "      <th></th>\n",
       "      <th></th>\n",
       "      <th></th>\n",
       "      <th></th>\n",
       "    </tr>\n",
       "  </thead>\n",
       "  <tbody>\n",
       "    <tr>\n",
       "      <th>Central</th>\n",
       "      <td>(POLYGON ((102.33499908 2.04833293, 102.335281...</td>\n",
       "      <td>MYS</td>\n",
       "      <td>Malaysia</td>\n",
       "      <td>MYS.4_1</td>\n",
       "      <td>Kuala Lumpur</td>\n",
       "      <td>Federal Territory of Kuala Lumpur</td>\n",
       "      <td>None</td>\n",
       "      <td>Wilayah Persekutuan</td>\n",
       "      <td>Federal Territory</td>\n",
       "      <td>None</td>\n",
       "      <td>MY.KL</td>\n",
       "    </tr>\n",
       "    <tr>\n",
       "      <th>East Coast</th>\n",
       "      <td>(POLYGON ((103.45878601 3.4653151, 103.4582290...</td>\n",
       "      <td>MYS</td>\n",
       "      <td>Malaysia</td>\n",
       "      <td>MYS.3_1</td>\n",
       "      <td>Kelantan</td>\n",
       "      <td>&lt;Null&gt;</td>\n",
       "      <td>None</td>\n",
       "      <td>Negeri</td>\n",
       "      <td>State</td>\n",
       "      <td>None</td>\n",
       "      <td>MY.KN</td>\n",
       "    </tr>\n",
       "    <tr>\n",
       "      <th>East Malaysia</th>\n",
       "      <td>(POLYGON ((118.62939453 4.11226416, 118.629058...</td>\n",
       "      <td>MYS</td>\n",
       "      <td>Malaysia</td>\n",
       "      <td>MYS.5_1</td>\n",
       "      <td>Labuan</td>\n",
       "      <td>Federal Territory of Labuan</td>\n",
       "      <td>None</td>\n",
       "      <td>Wilayah Persekutuan</td>\n",
       "      <td>Federal Territory</td>\n",
       "      <td>None</td>\n",
       "      <td>MY.LA</td>\n",
       "    </tr>\n",
       "    <tr>\n",
       "      <th>North</th>\n",
       "      <td>(POLYGON ((100.10290527 3.97631788, 100.102996...</td>\n",
       "      <td>MYS</td>\n",
       "      <td>Malaysia</td>\n",
       "      <td>MYS.2_1</td>\n",
       "      <td>Kedah</td>\n",
       "      <td>Kedah Darul Aman</td>\n",
       "      <td>None</td>\n",
       "      <td>Negeri</td>\n",
       "      <td>State</td>\n",
       "      <td>None</td>\n",
       "      <td>MY.KH</td>\n",
       "    </tr>\n",
       "    <tr>\n",
       "      <th>South</th>\n",
       "      <td>(POLYGON ((104.11413574 2.17112207, 104.113540...</td>\n",
       "      <td>MYS</td>\n",
       "      <td>Malaysia</td>\n",
       "      <td>MYS.1_1</td>\n",
       "      <td>Johor</td>\n",
       "      <td>Johor Darul Takzim|Johore</td>\n",
       "      <td>None</td>\n",
       "      <td>Negeri</td>\n",
       "      <td>State</td>\n",
       "      <td>None</td>\n",
       "      <td>MY.JH</td>\n",
       "    </tr>\n",
       "  </tbody>\n",
       "</table>\n",
       "</div>"
      ],
      "text/plain": [
       "                                                        geometry GID_0  \\\n",
       "region                                                                   \n",
       "Central        (POLYGON ((102.33499908 2.04833293, 102.335281...   MYS   \n",
       "East Coast     (POLYGON ((103.45878601 3.4653151, 103.4582290...   MYS   \n",
       "East Malaysia  (POLYGON ((118.62939453 4.11226416, 118.629058...   MYS   \n",
       "North          (POLYGON ((100.10290527 3.97631788, 100.102996...   MYS   \n",
       "South          (POLYGON ((104.11413574 2.17112207, 104.113540...   MYS   \n",
       "\n",
       "                 NAME_0    GID_1        NAME_1  \\\n",
       "region                                           \n",
       "Central        Malaysia  MYS.4_1  Kuala Lumpur   \n",
       "East Coast     Malaysia  MYS.3_1      Kelantan   \n",
       "East Malaysia  Malaysia  MYS.5_1        Labuan   \n",
       "North          Malaysia  MYS.2_1         Kedah   \n",
       "South          Malaysia  MYS.1_1         Johor   \n",
       "\n",
       "                                       VARNAME_1 NL_NAME_1  \\\n",
       "region                                                       \n",
       "Central        Federal Territory of Kuala Lumpur      None   \n",
       "East Coast                                <Null>      None   \n",
       "East Malaysia        Federal Territory of Labuan      None   \n",
       "North                           Kedah Darul Aman      None   \n",
       "South                  Johor Darul Takzim|Johore      None   \n",
       "\n",
       "                            TYPE_1          ENGTYPE_1  CC_1 HASC_1  \n",
       "region                                                              \n",
       "Central        Wilayah Persekutuan  Federal Territory  None  MY.KL  \n",
       "East Coast                  Negeri              State  None  MY.KN  \n",
       "East Malaysia  Wilayah Persekutuan  Federal Territory  None  MY.LA  \n",
       "North                       Negeri              State  None  MY.KH  \n",
       "South                       Negeri              State  None  MY.JH  "
      ]
     },
     "execution_count": 163,
     "metadata": {},
     "output_type": "execute_result"
    }
   ],
   "source": [
    "regions.head(20)"
   ]
  },
  {
   "cell_type": "code",
   "execution_count": 164,
   "metadata": {},
   "outputs": [
    {
     "data": {
      "text/plain": [
       "<matplotlib.axes._subplots.AxesSubplot at 0x24419edcbe0>"
      ]
     },
     "execution_count": 164,
     "metadata": {},
     "output_type": "execute_result"
    },
    {
     "data": {
      "image/png": "[encoded data removed]",
      "text/plain": [
       "<Figure size 432x288 with 1 Axes>"
      ]
     },
     "metadata": {
      "needs_background": "light"
     },
     "output_type": "display_data"
    }
   ],
   "source": [
    "regions.plot()"
   ]
  },
  {
   "cell_type": "code",
   "execution_count": 165,
   "metadata": {},
   "outputs": [
    {
     "data": {
      "text/plain": [
       "(5, 11)"
      ]
     },
     "execution_count": 165,
     "metadata": {},
     "output_type": "execute_result"
    }
   ],
   "source": [
    "regions.shape"
   ]
  },
  {
   "cell_type": "code",
   "execution_count": 166,
   "metadata": {},
   "outputs": [
    {
     "data": {
      "text/plain": [
       "(5,)"
      ]
     },
     "execution_count": 166,
     "metadata": {},
     "output_type": "execute_result"
    }
   ],
   "source": [
    "weighted_means_table.shape"
   ]
  },
  {
   "cell_type": "code",
   "execution_count": 167,
   "metadata": {},
   "outputs": [],
   "source": [
    "regions_merged = pd.merge(regions, weighted_means_table, left_index=True, right_index=True)"
   ]
  },
  {
   "cell_type": "code",
   "execution_count": 168,
   "metadata": {},
   "outputs": [],
   "source": [
    "regions_merged = gpd.GeoDataFrame(regions_merged)"
   ]
  },
  {
   "cell_type": "code",
   "execution_count": 187,
   "metadata": {},
   "outputs": [
    {
     "name": "stdout",
     "output_type": "stream",
     "text": [
      "Source: Own analysis of data from the World Bank's Enterprise Survey, 2016\n"
     ]
    }
   ],
   "source": [
    "description=print(\"Source: Own analysis of data from the World Bank's Enterprise Survey, 2016\")"
   ]
  },
  {
   "cell_type": "code",
   "execution_count": 231,
   "metadata": {
    "scrolled": true
   },
   "outputs": [
    {
     "data": {
      "image/png": "[encoded data removed]",
      "text/plain": [
       "<Figure size 1440x360 with 2 Axes>"
      ]
     },
     "metadata": {
      "needs_background": "light"
     },
     "output_type": "display_data"
    }
   ],
   "source": [
    "regions_merged.plot(column = 'mean_ageofbiz', legend = True, figsize = [20,5])\n",
    "plt.title('Mean age of firms in Malaysia by region', fontdict={'fontsize': 15});\n",
    "plt.xticks([])\n",
    "plt.yticks([])\n",
    "plt.show()"
   ]
  },
  {
   "cell_type": "code",
   "execution_count": 218,
   "metadata": {},
   "outputs": [
    {
     "name": "stderr",
     "output_type": "stream",
     "text": [
      "C:\\ProgramData\\Anaconda3\\lib\\site-packages\\ipykernel_launcher.py:5: UserWarning: You have used the `textcoords` kwarg, but not the `xytext` kwarg.  This can lead to surprising results.\n",
      "  \"\"\"\n"
     ]
    },
    {
     "data": {
      "image/png": "[encoded data removed]",
      "text/plain": [
       "<Figure size 1800x576 with 2 Axes>"
      ]
     },
     "metadata": {
      "needs_background": "light"
     },
     "output_type": "display_data"
    }
   ],
   "source": [
    "regions_merged.plot(column = 'mean_ageofbiz', legend = True, figsize = [25,8])\n",
    "plt2.title('Mean age of firms in Malaysia by region', fontdict={'fontsize': 20});\n",
    "plt2.xticks([])\n",
    "plt2.yticks([])\n",
    "plt2.annotate('Source: WB Enterprise Surveys 2015/16', xy=(0.1, 0.1), size=15, xycoords='axes fraction', textcoords='offset points', va='top')\n",
    "plt2.gca().axes.get_yaxis().set_visible(False)\n",
    "plt2.show()"
   ]
  }
 ],
 "metadata": {
  "kernelspec": {
   "display_name": "Python 3",
   "language": "python",
   "name": "python3"
  },
  "language_info": {
   "codemirror_mode": {
    "name": "ipython",
    "version": 3
   },
   "file_extension": ".py",
   "mimetype": "text/x-python",
   "name": "python",
   "nbconvert_exporter": "python",
   "pygments_lexer": "ipython3",
   "version": "3.6.8"
  }
 },
 "nbformat": 4,
 "nbformat_minor": 2
}
