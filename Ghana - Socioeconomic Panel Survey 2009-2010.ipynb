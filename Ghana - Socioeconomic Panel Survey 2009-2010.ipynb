{
 "cells": [
  {
   "cell_type": "markdown",
   "metadata": {},
   "source": [
    "# Ghana"
   ]
  },
  {
   "cell_type": "markdown",
   "metadata": {},
   "source": [
    "## Calculate and visualize average monthly expenditure across Ghana\n",
    "The data below is from the Ghana - Socioeconomic Panel Survey 2009-2010. It's [available](http://microdata.worldbank.org/index.php/catalog/2534/get_microdata) on the WB Microdata Library.\n",
    "\n",
    "With household survey data, sample weights are important to generalize from the sample to the population.\n",
    "\n",
    "- **Objective: Calculate and visualize average food expenditure across Ghana's regions**"
   ]
  },
  {
   "cell_type": "code",
   "execution_count": 3,
   "metadata": {
    "scrolled": true
   },
   "outputs": [
    {
     "name": "stdout",
     "output_type": "stream",
     "text": [
      "Populating the interactive namespace from numpy and matplotlib\n"
     ]
    },
    {
     "name": "stderr",
     "output_type": "stream",
     "text": [
      "C:\\ProgramData\\Anaconda3\\lib\\site-packages\\IPython\\core\\magics\\pylab.py:160: UserWarning: pylab import has clobbered these variables: ['plt']\n",
      "`%matplotlib` prevents importing * from pylab and numpy\n",
      "  \"\\n`%matplotlib` prevents importing * from pylab and numpy\"\n"
     ]
    }
   ],
   "source": [
    "import pandas as pd\n",
    "import numpy as np\n",
    "import geopandas as gpd\n",
    "import requests\n",
    "from shapely.geometry import Point\n",
    "import pylab as plt\n",
    "%pylab inline\n",
    "import seaborn as sns\n",
    "import mplleaflet as mpll\n",
    "import osmnx as ox\n",
    "from IPython.display import Image\n",
    "import matplotlib.pyplot as plt2"
   ]
  },
  {
   "cell_type": "code",
   "execution_count": 110,
   "metadata": {
    "scrolled": true
   },
   "outputs": [
    {
     "data": {
      "text/plain": [
       "<matplotlib.axes._subplots.AxesSubplot at 0x286f061f5f8>"
      ]
     },
     "execution_count": 110,
     "metadata": {},
     "output_type": "execute_result"
    },
    {
     "data": {
      "image/png": "[encoded data removed]",
      "text/plain": [
       "<Figure size 432x288 with 1 Axes>"
      ]
     },
     "metadata": {
      "needs_background": "light"
     },
     "output_type": "display_data"
    }
   ],
   "source": [
    "ghana_GADM = gpd.read_file('data/ghana/gadm36_GHA_1.shp')\n",
    "ghana_GADM.plot()"
   ]
  },
  {
   "cell_type": "code",
   "execution_count": 111,
   "metadata": {},
   "outputs": [
    {
     "data": {
      "text/plain": [
       "(10, 11)"
      ]
     },
     "execution_count": 111,
     "metadata": {},
     "output_type": "execute_result"
    }
   ],
   "source": [
    "ghana_GADM.shape"
   ]
  },
  {
   "cell_type": "code",
   "execution_count": 112,
   "metadata": {},
   "outputs": [
    {
     "data": {
      "text/plain": [
       "Brong Ahafo      1\n",
       "Volta            1\n",
       "Western          1\n",
       "Upper East       1\n",
       "Ashanti          1\n",
       "Central          1\n",
       "Eastern          1\n",
       "Upper West       1\n",
       "Northern         1\n",
       "Greater Accra    1\n",
       "Name: NAME_1, dtype: int64"
      ]
     },
     "execution_count": 112,
     "metadata": {},
     "output_type": "execute_result"
    }
   ],
   "source": [
    "# List Ghana regions on GADM\n",
    "ghana_GADM['NAME_1'].value_counts()"
   ]
  },
  {
   "cell_type": "code",
   "execution_count": 113,
   "metadata": {},
   "outputs": [],
   "source": [
    "df = pd.read_csv('data/ghana/GHA_2009_GSPS_v01_M_STATA8/Consumption Aggregates_STATA8/aggregated_expenditure.csv')"
   ]
  },
  {
   "cell_type": "code",
   "execution_count": 114,
   "metadata": {
    "scrolled": true
   },
   "outputs": [
    {
     "data": {
      "text/html": [
       "<div>\n",
       "<style scoped>\n",
       "    .dataframe tbody tr th:only-of-type {\n",
       "        vertical-align: middle;\n",
       "    }\n",
       "\n",
       "    .dataframe tbody tr th {\n",
       "        vertical-align: top;\n",
       "    }\n",
       "\n",
       "    .dataframe thead th {\n",
       "        text-align: right;\n",
       "    }\n",
       "</style>\n",
       "<table border=\"1\" class=\"dataframe\">\n",
       "  <thead>\n",
       "    <tr style=\"text-align: right;\">\n",
       "      <th></th>\n",
       "      <th>id1</th>\n",
       "      <th>id2</th>\n",
       "      <th>id3</th>\n",
       "      <th>id4</th>\n",
       "      <th>hhno</th>\n",
       "      <th>total_exp_s11b</th>\n",
       "      <th>food_exp</th>\n",
       "      <th>gifts_given</th>\n",
       "      <th>own_produce</th>\n",
       "      <th>children_exp</th>\n",
       "      <th>elderly_exp</th>\n",
       "      <th>maleAdults_exp</th>\n",
       "      <th>femaleAdults_exp</th>\n",
       "      <th>otherItems_exp</th>\n",
       "      <th>fuel_exp</th>\n",
       "      <th>avg_s11_monthly_exp</th>\n",
       "      <th>education_expenditure</th>\n",
       "      <th>health_expenses</th>\n",
       "      <th>dwelling_expenses</th>\n",
       "      <th>avg_monthly_exp_overall</th>\n",
       "    </tr>\n",
       "  </thead>\n",
       "  <tbody>\n",
       "    <tr>\n",
       "      <th>0</th>\n",
       "      <td>Western Region</td>\n",
       "      <td>6.0</td>\n",
       "      <td>1.0</td>\n",
       "      <td>2.0</td>\n",
       "      <td>101001002</td>\n",
       "      <td>0.0</td>\n",
       "      <td>150.850006</td>\n",
       "      <td>0.0</td>\n",
       "      <td>0.0</td>\n",
       "      <td>5.0</td>\n",
       "      <td>0.0</td>\n",
       "      <td>8.333333</td>\n",
       "      <td>9.833333</td>\n",
       "      <td>12.666666</td>\n",
       "      <td>5.0</td>\n",
       "      <td>191.683334</td>\n",
       "      <td>0.0</td>\n",
       "      <td>0.0</td>\n",
       "      <td>21.333334</td>\n",
       "      <td>213.016663</td>\n",
       "    </tr>\n",
       "    <tr>\n",
       "      <th>1</th>\n",
       "      <td>Western Region</td>\n",
       "      <td>6.0</td>\n",
       "      <td>1.0</td>\n",
       "      <td>3.0</td>\n",
       "      <td>101001003</td>\n",
       "      <td>0.0</td>\n",
       "      <td>108.949997</td>\n",
       "      <td>0.0</td>\n",
       "      <td>0.0</td>\n",
       "      <td>0.0</td>\n",
       "      <td>0.0</td>\n",
       "      <td>11.666666</td>\n",
       "      <td>9.500000</td>\n",
       "      <td>17.708332</td>\n",
       "      <td>33.0</td>\n",
       "      <td>180.824997</td>\n",
       "      <td>0.0</td>\n",
       "      <td>0.0</td>\n",
       "      <td>0.000000</td>\n",
       "      <td>180.824997</td>\n",
       "    </tr>\n",
       "    <tr>\n",
       "      <th>2</th>\n",
       "      <td>Western Region</td>\n",
       "      <td>6.0</td>\n",
       "      <td>1.0</td>\n",
       "      <td>4.0</td>\n",
       "      <td>101001004</td>\n",
       "      <td>0.0</td>\n",
       "      <td>178.000000</td>\n",
       "      <td>0.0</td>\n",
       "      <td>21.0</td>\n",
       "      <td>0.0</td>\n",
       "      <td>0.0</td>\n",
       "      <td>9.916667</td>\n",
       "      <td>0.000000</td>\n",
       "      <td>14.833333</td>\n",
       "      <td>6.5</td>\n",
       "      <td>230.250000</td>\n",
       "      <td>0.0</td>\n",
       "      <td>0.0</td>\n",
       "      <td>0.750000</td>\n",
       "      <td>231.000000</td>\n",
       "    </tr>\n",
       "    <tr>\n",
       "      <th>3</th>\n",
       "      <td>Western Region</td>\n",
       "      <td>6.0</td>\n",
       "      <td>1.0</td>\n",
       "      <td>9.0</td>\n",
       "      <td>101001009</td>\n",
       "      <td>0.0</td>\n",
       "      <td>49.799999</td>\n",
       "      <td>0.0</td>\n",
       "      <td>0.0</td>\n",
       "      <td>0.0</td>\n",
       "      <td>0.0</td>\n",
       "      <td>5.708333</td>\n",
       "      <td>10.000000</td>\n",
       "      <td>17.583332</td>\n",
       "      <td>2.0</td>\n",
       "      <td>85.091667</td>\n",
       "      <td>0.0</td>\n",
       "      <td>234.0</td>\n",
       "      <td>1.000000</td>\n",
       "      <td>320.091675</td>\n",
       "    </tr>\n",
       "    <tr>\n",
       "      <th>4</th>\n",
       "      <td>Western Region</td>\n",
       "      <td>6.0</td>\n",
       "      <td>1.0</td>\n",
       "      <td>10.0</td>\n",
       "      <td>101001010</td>\n",
       "      <td>0.0</td>\n",
       "      <td>1563.050049</td>\n",
       "      <td>0.0</td>\n",
       "      <td>0.7</td>\n",
       "      <td>0.0</td>\n",
       "      <td>0.0</td>\n",
       "      <td>0.000000</td>\n",
       "      <td>10.666666</td>\n",
       "      <td>17.750000</td>\n",
       "      <td>10.0</td>\n",
       "      <td>1602.166626</td>\n",
       "      <td>0.0</td>\n",
       "      <td>36.0</td>\n",
       "      <td>4.166667</td>\n",
       "      <td>1642.333252</td>\n",
       "    </tr>\n",
       "  </tbody>\n",
       "</table>\n",
       "</div>"
      ],
      "text/plain": [
       "              id1  id2  id3   id4       hhno  total_exp_s11b     food_exp  \\\n",
       "0  Western Region  6.0  1.0   2.0  101001002             0.0   150.850006   \n",
       "1  Western Region  6.0  1.0   3.0  101001003             0.0   108.949997   \n",
       "2  Western Region  6.0  1.0   4.0  101001004             0.0   178.000000   \n",
       "3  Western Region  6.0  1.0   9.0  101001009             0.0    49.799999   \n",
       "4  Western Region  6.0  1.0  10.0  101001010             0.0  1563.050049   \n",
       "\n",
       "   gifts_given  own_produce  children_exp  elderly_exp  maleAdults_exp  \\\n",
       "0          0.0          0.0           5.0          0.0        8.333333   \n",
       "1          0.0          0.0           0.0          0.0       11.666666   \n",
       "2          0.0         21.0           0.0          0.0        9.916667   \n",
       "3          0.0          0.0           0.0          0.0        5.708333   \n",
       "4          0.0          0.7           0.0          0.0        0.000000   \n",
       "\n",
       "   femaleAdults_exp  otherItems_exp  fuel_exp  avg_s11_monthly_exp  \\\n",
       "0          9.833333       12.666666       5.0           191.683334   \n",
       "1          9.500000       17.708332      33.0           180.824997   \n",
       "2          0.000000       14.833333       6.5           230.250000   \n",
       "3         10.000000       17.583332       2.0            85.091667   \n",
       "4         10.666666       17.750000      10.0          1602.166626   \n",
       "\n",
       "   education_expenditure  health_expenses  dwelling_expenses  \\\n",
       "0                    0.0              0.0          21.333334   \n",
       "1                    0.0              0.0           0.000000   \n",
       "2                    0.0              0.0           0.750000   \n",
       "3                    0.0            234.0           1.000000   \n",
       "4                    0.0             36.0           4.166667   \n",
       "\n",
       "   avg_monthly_exp_overall  \n",
       "0               213.016663  \n",
       "1               180.824997  \n",
       "2               231.000000  \n",
       "3               320.091675  \n",
       "4              1642.333252  "
      ]
     },
     "execution_count": 114,
     "metadata": {},
     "output_type": "execute_result"
    }
   ],
   "source": [
    "df.head()"
   ]
  },
  {
   "cell_type": "code",
   "execution_count": 115,
   "metadata": {},
   "outputs": [
    {
     "data": {
      "text/plain": [
       "Ashanti Region          895\n",
       "Eastern Region          642\n",
       "Greater Accra Region    587\n",
       "Northern Region         569\n",
       "Brong Ahafo Region      510\n",
       "Volta Region            495\n",
       "Western Region          465\n",
       "Central Region          420\n",
       "Upper East Region       240\n",
       "Upper West Region       180\n",
       "Name: id1, dtype: int64"
      ]
     },
     "execution_count": 115,
     "metadata": {},
     "output_type": "execute_result"
    }
   ],
   "source": [
    "df['id1'].value_counts()"
   ]
  },
  {
   "cell_type": "code",
   "execution_count": 116,
   "metadata": {},
   "outputs": [],
   "source": [
    "df.rename(columns = {'id1':'Region','id2':'District','id3':'EA No',\n",
    "           'id4':'HH id','total_exp_s11b':'MS_tot_exp', 'avg_s11_monthly_exp':'hh_exp_mo'}, inplace=True)\n",
    "\n",
    "df.Region.replace({'Ashanti Region':'Ashanti', 'Eastern Region':'Eastern', 'Greater Accra Region':'Greater Accra', 'Northern Region':'Northern', 'Brong Ahafo Region':'Brong Ahafo', 'Volta Region':'Volta', 'Western Region':'Western', 'Central Region':'Central', 'Upper East Region':'Upper East',\n",
    "       'Upper West Region':'Upper West'}, inplace = True)"
   ]
  },
  {
   "cell_type": "code",
   "execution_count": 117,
   "metadata": {},
   "outputs": [
    {
     "data": {
      "text/html": [
       "<div>\n",
       "<style scoped>\n",
       "    .dataframe tbody tr th:only-of-type {\n",
       "        vertical-align: middle;\n",
       "    }\n",
       "\n",
       "    .dataframe tbody tr th {\n",
       "        vertical-align: top;\n",
       "    }\n",
       "\n",
       "    .dataframe thead th {\n",
       "        text-align: right;\n",
       "    }\n",
       "</style>\n",
       "<table border=\"1\" class=\"dataframe\">\n",
       "  <thead>\n",
       "    <tr style=\"text-align: right;\">\n",
       "      <th></th>\n",
       "      <th>Region</th>\n",
       "      <th>District</th>\n",
       "      <th>EA No</th>\n",
       "      <th>HH id</th>\n",
       "      <th>hhno</th>\n",
       "      <th>MS_tot_exp</th>\n",
       "      <th>food_exp</th>\n",
       "      <th>gifts_given</th>\n",
       "      <th>own_produce</th>\n",
       "      <th>children_exp</th>\n",
       "      <th>elderly_exp</th>\n",
       "      <th>maleAdults_exp</th>\n",
       "      <th>femaleAdults_exp</th>\n",
       "      <th>otherItems_exp</th>\n",
       "      <th>fuel_exp</th>\n",
       "      <th>hh_exp_mo</th>\n",
       "      <th>education_expenditure</th>\n",
       "      <th>health_expenses</th>\n",
       "      <th>dwelling_expenses</th>\n",
       "      <th>avg_monthly_exp_overall</th>\n",
       "    </tr>\n",
       "  </thead>\n",
       "  <tbody>\n",
       "    <tr>\n",
       "      <th>0</th>\n",
       "      <td>Western</td>\n",
       "      <td>6.0</td>\n",
       "      <td>1.0</td>\n",
       "      <td>2.0</td>\n",
       "      <td>101001002</td>\n",
       "      <td>0.0</td>\n",
       "      <td>150.850006</td>\n",
       "      <td>0.0</td>\n",
       "      <td>0.0</td>\n",
       "      <td>5.0</td>\n",
       "      <td>0.0</td>\n",
       "      <td>8.333333</td>\n",
       "      <td>9.833333</td>\n",
       "      <td>12.666666</td>\n",
       "      <td>5.0</td>\n",
       "      <td>191.683334</td>\n",
       "      <td>0.0</td>\n",
       "      <td>0.0</td>\n",
       "      <td>21.333334</td>\n",
       "      <td>213.016663</td>\n",
       "    </tr>\n",
       "    <tr>\n",
       "      <th>1</th>\n",
       "      <td>Western</td>\n",
       "      <td>6.0</td>\n",
       "      <td>1.0</td>\n",
       "      <td>3.0</td>\n",
       "      <td>101001003</td>\n",
       "      <td>0.0</td>\n",
       "      <td>108.949997</td>\n",
       "      <td>0.0</td>\n",
       "      <td>0.0</td>\n",
       "      <td>0.0</td>\n",
       "      <td>0.0</td>\n",
       "      <td>11.666666</td>\n",
       "      <td>9.500000</td>\n",
       "      <td>17.708332</td>\n",
       "      <td>33.0</td>\n",
       "      <td>180.824997</td>\n",
       "      <td>0.0</td>\n",
       "      <td>0.0</td>\n",
       "      <td>0.000000</td>\n",
       "      <td>180.824997</td>\n",
       "    </tr>\n",
       "    <tr>\n",
       "      <th>2</th>\n",
       "      <td>Western</td>\n",
       "      <td>6.0</td>\n",
       "      <td>1.0</td>\n",
       "      <td>4.0</td>\n",
       "      <td>101001004</td>\n",
       "      <td>0.0</td>\n",
       "      <td>178.000000</td>\n",
       "      <td>0.0</td>\n",
       "      <td>21.0</td>\n",
       "      <td>0.0</td>\n",
       "      <td>0.0</td>\n",
       "      <td>9.916667</td>\n",
       "      <td>0.000000</td>\n",
       "      <td>14.833333</td>\n",
       "      <td>6.5</td>\n",
       "      <td>230.250000</td>\n",
       "      <td>0.0</td>\n",
       "      <td>0.0</td>\n",
       "      <td>0.750000</td>\n",
       "      <td>231.000000</td>\n",
       "    </tr>\n",
       "    <tr>\n",
       "      <th>3</th>\n",
       "      <td>Western</td>\n",
       "      <td>6.0</td>\n",
       "      <td>1.0</td>\n",
       "      <td>9.0</td>\n",
       "      <td>101001009</td>\n",
       "      <td>0.0</td>\n",
       "      <td>49.799999</td>\n",
       "      <td>0.0</td>\n",
       "      <td>0.0</td>\n",
       "      <td>0.0</td>\n",
       "      <td>0.0</td>\n",
       "      <td>5.708333</td>\n",
       "      <td>10.000000</td>\n",
       "      <td>17.583332</td>\n",
       "      <td>2.0</td>\n",
       "      <td>85.091667</td>\n",
       "      <td>0.0</td>\n",
       "      <td>234.0</td>\n",
       "      <td>1.000000</td>\n",
       "      <td>320.091675</td>\n",
       "    </tr>\n",
       "    <tr>\n",
       "      <th>4</th>\n",
       "      <td>Western</td>\n",
       "      <td>6.0</td>\n",
       "      <td>1.0</td>\n",
       "      <td>10.0</td>\n",
       "      <td>101001010</td>\n",
       "      <td>0.0</td>\n",
       "      <td>1563.050049</td>\n",
       "      <td>0.0</td>\n",
       "      <td>0.7</td>\n",
       "      <td>0.0</td>\n",
       "      <td>0.0</td>\n",
       "      <td>0.000000</td>\n",
       "      <td>10.666666</td>\n",
       "      <td>17.750000</td>\n",
       "      <td>10.0</td>\n",
       "      <td>1602.166626</td>\n",
       "      <td>0.0</td>\n",
       "      <td>36.0</td>\n",
       "      <td>4.166667</td>\n",
       "      <td>1642.333252</td>\n",
       "    </tr>\n",
       "  </tbody>\n",
       "</table>\n",
       "</div>"
      ],
      "text/plain": [
       "    Region  District  EA No  HH id       hhno  MS_tot_exp     food_exp  \\\n",
       "0  Western       6.0    1.0    2.0  101001002         0.0   150.850006   \n",
       "1  Western       6.0    1.0    3.0  101001003         0.0   108.949997   \n",
       "2  Western       6.0    1.0    4.0  101001004         0.0   178.000000   \n",
       "3  Western       6.0    1.0    9.0  101001009         0.0    49.799999   \n",
       "4  Western       6.0    1.0   10.0  101001010         0.0  1563.050049   \n",
       "\n",
       "   gifts_given  own_produce  children_exp  elderly_exp  maleAdults_exp  \\\n",
       "0          0.0          0.0           5.0          0.0        8.333333   \n",
       "1          0.0          0.0           0.0          0.0       11.666666   \n",
       "2          0.0         21.0           0.0          0.0        9.916667   \n",
       "3          0.0          0.0           0.0          0.0        5.708333   \n",
       "4          0.0          0.7           0.0          0.0        0.000000   \n",
       "\n",
       "   femaleAdults_exp  otherItems_exp  fuel_exp    hh_exp_mo  \\\n",
       "0          9.833333       12.666666       5.0   191.683334   \n",
       "1          9.500000       17.708332      33.0   180.824997   \n",
       "2          0.000000       14.833333       6.5   230.250000   \n",
       "3         10.000000       17.583332       2.0    85.091667   \n",
       "4         10.666666       17.750000      10.0  1602.166626   \n",
       "\n",
       "   education_expenditure  health_expenses  dwelling_expenses  \\\n",
       "0                    0.0              0.0          21.333334   \n",
       "1                    0.0              0.0           0.000000   \n",
       "2                    0.0              0.0           0.750000   \n",
       "3                    0.0            234.0           1.000000   \n",
       "4                    0.0             36.0           4.166667   \n",
       "\n",
       "   avg_monthly_exp_overall  \n",
       "0               213.016663  \n",
       "1               180.824997  \n",
       "2               231.000000  \n",
       "3               320.091675  \n",
       "4              1642.333252  "
      ]
     },
     "execution_count": 117,
     "metadata": {},
     "output_type": "execute_result"
    }
   ],
   "source": [
    "df.head()"
   ]
  },
  {
   "cell_type": "code",
   "execution_count": 118,
   "metadata": {},
   "outputs": [
    {
     "data": {
      "text/plain": [
       "<matplotlib.axes._subplots.AxesSubplot at 0x286f063c518>"
      ]
     },
     "execution_count": 118,
     "metadata": {},
     "output_type": "execute_result"
    },
    {
     "data": {
      "image/png": "[encoded data removed]",
      "text/plain": [
       "<Figure size 432x288 with 1 Axes>"
      ]
     },
     "metadata": {
      "needs_background": "light"
     },
     "output_type": "display_data"
    }
   ],
   "source": [
    "df.food_exp.hist()"
   ]
  },
  {
   "cell_type": "code",
   "execution_count": 119,
   "metadata": {},
   "outputs": [
    {
     "data": {
      "text/plain": [
       "<matplotlib.axes._subplots.AxesSubplot at 0x286f072d2e8>"
      ]
     },
     "execution_count": 119,
     "metadata": {},
     "output_type": "execute_result"
    },
    {
     "data": {
      "image/png": "[encoded data removed]",
      "text/plain": [
       "<Figure size 288x288 with 1 Axes>"
      ]
     },
     "metadata": {
      "needs_background": "light"
     },
     "output_type": "display_data"
    }
   ],
   "source": [
    "df[['food_exp', 'avg_monthly_exp_overall']].boxplot(figsize = [4,4])"
   ]
  },
  {
   "cell_type": "code",
   "execution_count": 120,
   "metadata": {},
   "outputs": [
    {
     "name": "stdout",
     "output_type": "stream",
     "text": [
      "3445.89990234375\n",
      "102.87327346791274\n",
      "4847.0\n",
      "423.6569314838635\n"
     ]
    }
   ],
   "source": [
    "print(df.food_exp.max())\n",
    "print(df.food_exp.mean())\n",
    "print(df.avg_monthly_exp_overall.max())\n",
    "print(df.avg_monthly_exp_overall.mean())"
   ]
  },
  {
   "cell_type": "code",
   "execution_count": 121,
   "metadata": {},
   "outputs": [
    {
     "name": "stderr",
     "output_type": "stream",
     "text": [
      "C:\\ProgramData\\Anaconda3\\lib\\site-packages\\ipykernel_launcher.py:4: SettingWithCopyWarning: \n",
      "A value is trying to be set on a copy of a slice from a DataFrame\n",
      "\n",
      "See the caveats in the documentation: http://pandas.pydata.org/pandas-docs/stable/indexing.html#indexing-view-versus-copy\n",
      "  after removing the cwd from sys.path.\n",
      "C:\\ProgramData\\Anaconda3\\lib\\site-packages\\ipykernel_launcher.py:6: SettingWithCopyWarning: \n",
      "A value is trying to be set on a copy of a slice from a DataFrame\n",
      "\n",
      "See the caveats in the documentation: http://pandas.pydata.org/pandas-docs/stable/indexing.html#indexing-view-versus-copy\n",
      "  \n"
     ]
    }
   ],
   "source": [
    "# Remove observations more than 3 standard deviations above the mean\n",
    "\n",
    "df['food_exp'][df['food_exp'] > (df.food_exp.mean()\n",
    "                                                     + df.food_exp.std() * 3)] = np.nan\n",
    "df['avg_monthly_exp_overall'][df['avg_monthly_exp_overall'] > (df.avg_monthly_exp_overall.mean() \n",
    "                                                         + df.avg_monthly_exp_overall.std() * 3)] = np.nan\n",
    "df.dropna(inplace = True)"
   ]
  },
  {
   "cell_type": "code",
   "execution_count": 122,
   "metadata": {},
   "outputs": [
    {
     "name": "stdout",
     "output_type": "stream",
     "text": [
      "400.9500122070313\n",
      "95.44793427839338\n",
      "1679.5499267578132\n",
      "373.6875084228619\n"
     ]
    }
   ],
   "source": [
    "print(df.food_exp.max())\n",
    "print(df.food_exp.mean())\n",
    "print(df.avg_monthly_exp_overall.max())\n",
    "print(df.avg_monthly_exp_overall.mean())"
   ]
  },
  {
   "cell_type": "code",
   "execution_count": 123,
   "metadata": {},
   "outputs": [
    {
     "data": {
      "text/plain": [
       "<matplotlib.axes._subplots.AxesSubplot at 0x286f060d710>"
      ]
     },
     "execution_count": 123,
     "metadata": {},
     "output_type": "execute_result"
    },
    {
     "data": {
      "image/png": "[encoded data removed]",
      "text/plain": [
       "<Figure size 288x288 with 1 Axes>"
      ]
     },
     "metadata": {
      "needs_background": "light"
     },
     "output_type": "display_data"
    }
   ],
   "source": [
    "df[['food_exp']].boxplot(figsize = [4,4])"
   ]
  },
  {
   "cell_type": "code",
   "execution_count": 124,
   "metadata": {},
   "outputs": [
    {
     "data": {
      "text/plain": [
       "Region\n",
       "Ashanti           99.574591\n",
       "Brong Ahafo       68.586640\n",
       "Central          102.182902\n",
       "Eastern           90.878547\n",
       "Greater Accra    130.918501\n",
       "Northern          94.294045\n",
       "Upper East       107.621872\n",
       "Upper West        64.355923\n",
       "Volta             73.127947\n",
       "Western          104.618862\n",
       "Name: food_exp, dtype: float64"
      ]
     },
     "execution_count": 124,
     "metadata": {},
     "output_type": "execute_result"
    }
   ],
   "source": [
    "df.groupby(['Region'])['food_exp'].mean()"
   ]
  },
  {
   "cell_type": "code",
   "execution_count": 125,
   "metadata": {},
   "outputs": [],
   "source": [
    "def weighted_mean(values, weights):\n",
    "    return sum(values * weights) / weights.sum()"
   ]
  },
  {
   "cell_type": "code",
   "execution_count": 126,
   "metadata": {},
   "outputs": [],
   "source": [
    "means_table_df = df.groupby('Region').mean()[['food_exp']] # returns a data frame\n",
    "means_table = pd.Series({Region: weighted_mean(df.food_exp[df.Region == Region],\n",
    "                                  df.hhno[df.Region == Region]) for Region in df.Region.unique()},\n",
    "                                name = 'mean_food_exp')"
   ]
  },
  {
   "cell_type": "code",
   "execution_count": 127,
   "metadata": {},
   "outputs": [
    {
     "data": {
      "image/png": "[encoded data removed]",
      "text/plain": [
       "<Figure size 432x288 with 1 Axes>"
      ]
     },
     "metadata": {
      "needs_background": "light"
     },
     "output_type": "display_data"
    }
   ],
   "source": [
    "means_table.sort_values(ascending = True).plot(kind='barh')\n",
    "plt.title('Mean household food expenditure by region');"
   ]
  },
  {
   "cell_type": "markdown",
   "metadata": {},
   "source": [
    "#### 4. Visualize on a map of Ghana\n",
    "* A good data source is GADM, which has admin boundaries for all countries at levels 0 through 3 (national boundaries through to ward level). https://gadm.org/\n",
    "\n",
    "\n",
    "* GADM1 gives us Ghana's 10 regions. Our dataset uses the same "
   ]
  },
  {
   "cell_type": "code",
   "execution_count": 128,
   "metadata": {},
   "outputs": [
    {
     "data": {
      "text/plain": [
       "Western          104.618161\n",
       "Central          102.182534\n",
       "Greater Accra    130.919955\n",
       "Volta             73.124894\n",
       "Eastern           90.882314\n",
       "Ashanti           99.573655\n",
       "Brong Ahafo       68.586961\n",
       "Northern          94.294814\n",
       "Upper East       107.620941\n",
       "Upper West        64.355855\n",
       "Name: mean_food_exp, dtype: float64"
      ]
     },
     "execution_count": 128,
     "metadata": {},
     "output_type": "execute_result"
    }
   ],
   "source": [
    "means_table"
   ]
  },
  {
   "cell_type": "code",
   "execution_count": 129,
   "metadata": {},
   "outputs": [],
   "source": [
    "Ashanti = ['Ashanti']\n",
    "Brong_Ahafo = ['Brong Ahafo']\n",
    "Central = ['Central']\n",
    "Greater_Accra = ['Greater Accra']\n",
    "Northern = ['Northern']\n",
    "Upper_East = ['Upper East']\n",
    "Upper_West = ['Upper West']\n",
    "Western = ['Western']\n",
    "Eastern = ['Eastern']\n",
    "Volta = ['Volta']\n",
    "\n",
    "def remap_states(state):\n",
    "    if state in Ashanti:\n",
    "        return('Ashanti')\n",
    "    elif state in Brong_Ahafo:\n",
    "        return('Brong Ahafo')\n",
    "    elif state in Central:\n",
    "        return('Central')\n",
    "    elif state in Greater_Accra:\n",
    "        return('Greater Accra')\n",
    "    elif state in Northern:\n",
    "        return('Northern')\n",
    "    elif state in Upper_East:\n",
    "        return('Upper East')\n",
    "    elif state in Upper_West:\n",
    "        return('Upper West')\n",
    "    elif state in Western:\n",
    "        return('Western')\n",
    "    elif state in Eastern:\n",
    "        return('Eastern')\n",
    "    elif state in Volta:\n",
    "        return('Volta')\n",
    "    else:\n",
    "        return('error!')"
   ]
  },
  {
   "cell_type": "code",
   "execution_count": 130,
   "metadata": {},
   "outputs": [],
   "source": [
    "ghana_GADM['Region'] = ghana_GADM.NAME_1.apply(remap_states)"
   ]
  },
  {
   "cell_type": "code",
   "execution_count": 131,
   "metadata": {},
   "outputs": [],
   "source": [
    "# Create a new geodataframe comprising 10 merged polygons\n",
    "\n",
    "regions = ghana_GADM.dissolve(by = 'Region')"
   ]
  },
  {
   "cell_type": "code",
   "execution_count": 132,
   "metadata": {},
   "outputs": [
    {
     "data": {
      "text/plain": [
       "(10,)"
      ]
     },
     "execution_count": 132,
     "metadata": {},
     "output_type": "execute_result"
    }
   ],
   "source": [
    "regions.head(10)\n",
    "regions.shape\n",
    "means_table.shape"
   ]
  },
  {
   "cell_type": "code",
   "execution_count": 133,
   "metadata": {},
   "outputs": [],
   "source": [
    "regions_merged = pd.merge(regions, means_table, left_index=True, right_index=True)"
   ]
  },
  {
   "cell_type": "code",
   "execution_count": 134,
   "metadata": {},
   "outputs": [],
   "source": [
    "regions_merged = gpd.GeoDataFrame(regions_merged)"
   ]
  },
  {
   "cell_type": "code",
   "execution_count": 135,
   "metadata": {},
   "outputs": [
    {
     "data": {
      "text/html": [
       "<div>\n",
       "<style scoped>\n",
       "    .dataframe tbody tr th:only-of-type {\n",
       "        vertical-align: middle;\n",
       "    }\n",
       "\n",
       "    .dataframe tbody tr th {\n",
       "        vertical-align: top;\n",
       "    }\n",
       "\n",
       "    .dataframe thead th {\n",
       "        text-align: right;\n",
       "    }\n",
       "</style>\n",
       "<table border=\"1\" class=\"dataframe\">\n",
       "  <thead>\n",
       "    <tr style=\"text-align: right;\">\n",
       "      <th></th>\n",
       "      <th>geometry</th>\n",
       "      <th>GID_0</th>\n",
       "      <th>NAME_0</th>\n",
       "      <th>GID_1</th>\n",
       "      <th>NAME_1</th>\n",
       "      <th>VARNAME_1</th>\n",
       "      <th>NL_NAME_1</th>\n",
       "      <th>TYPE_1</th>\n",
       "      <th>ENGTYPE_1</th>\n",
       "      <th>CC_1</th>\n",
       "      <th>HASC_1</th>\n",
       "      <th>mean_food_exp</th>\n",
       "    </tr>\n",
       "  </thead>\n",
       "  <tbody>\n",
       "    <tr>\n",
       "      <th>Ashanti</th>\n",
       "      <td>POLYGON ((-1.54144502 5.93492079, -1.55517495 ...</td>\n",
       "      <td>GHA</td>\n",
       "      <td>Ghana</td>\n",
       "      <td>GHA.1_1</td>\n",
       "      <td>Ashanti</td>\n",
       "      <td>None</td>\n",
       "      <td>None</td>\n",
       "      <td>Region</td>\n",
       "      <td>Region</td>\n",
       "      <td>None</td>\n",
       "      <td>GH.AH</td>\n",
       "      <td>99.573655</td>\n",
       "    </tr>\n",
       "    <tr>\n",
       "      <th>Brong Ahafo</th>\n",
       "      <td>POLYGON ((-1.32043099 7.59765482, -1.33174598 ...</td>\n",
       "      <td>GHA</td>\n",
       "      <td>Ghana</td>\n",
       "      <td>GHA.2_1</td>\n",
       "      <td>Brong Ahafo</td>\n",
       "      <td>None</td>\n",
       "      <td>None</td>\n",
       "      <td>Region</td>\n",
       "      <td>Region</td>\n",
       "      <td>None</td>\n",
       "      <td>GH.BA</td>\n",
       "      <td>68.586961</td>\n",
       "    </tr>\n",
       "    <tr>\n",
       "      <th>Central</th>\n",
       "      <td>(POLYGON ((-0.65097302 5.32708216, -0.65208298...</td>\n",
       "      <td>GHA</td>\n",
       "      <td>Ghana</td>\n",
       "      <td>GHA.3_1</td>\n",
       "      <td>Central</td>\n",
       "      <td>None</td>\n",
       "      <td>None</td>\n",
       "      <td>Region</td>\n",
       "      <td>Region</td>\n",
       "      <td>None</td>\n",
       "      <td>GH.CP</td>\n",
       "      <td>102.182534</td>\n",
       "    </tr>\n",
       "    <tr>\n",
       "      <th>Eastern</th>\n",
       "      <td>POLYGON ((-0.15025599 5.76964903, -0.164995 5....</td>\n",
       "      <td>GHA</td>\n",
       "      <td>Ghana</td>\n",
       "      <td>GHA.4_1</td>\n",
       "      <td>Eastern</td>\n",
       "      <td>None</td>\n",
       "      <td>None</td>\n",
       "      <td>Region</td>\n",
       "      <td>Region</td>\n",
       "      <td>None</td>\n",
       "      <td>GH.EP</td>\n",
       "      <td>90.882314</td>\n",
       "    </tr>\n",
       "    <tr>\n",
       "      <th>Greater Accra</th>\n",
       "      <td>(POLYGON ((0.43625 5.83874989, 0.43625 5.83819...</td>\n",
       "      <td>GHA</td>\n",
       "      <td>Ghana</td>\n",
       "      <td>GHA.5_1</td>\n",
       "      <td>Greater Accra</td>\n",
       "      <td>None</td>\n",
       "      <td>None</td>\n",
       "      <td>Region</td>\n",
       "      <td>Region</td>\n",
       "      <td>None</td>\n",
       "      <td>GH.AA</td>\n",
       "      <td>130.919955</td>\n",
       "    </tr>\n",
       "    <tr>\n",
       "      <th>Northern</th>\n",
       "      <td>POLYGON ((-1.93357694 8.208468440000001, -1.94...</td>\n",
       "      <td>GHA</td>\n",
       "      <td>Ghana</td>\n",
       "      <td>GHA.6_1</td>\n",
       "      <td>Northern</td>\n",
       "      <td>None</td>\n",
       "      <td>None</td>\n",
       "      <td>Region</td>\n",
       "      <td>Region</td>\n",
       "      <td>None</td>\n",
       "      <td>GH.NP</td>\n",
       "      <td>94.294814</td>\n",
       "    </tr>\n",
       "    <tr>\n",
       "      <th>Upper East</th>\n",
       "      <td>POLYGON ((-1.49338496 10.44206047, -1.49012804...</td>\n",
       "      <td>GHA</td>\n",
       "      <td>Ghana</td>\n",
       "      <td>GHA.7_1</td>\n",
       "      <td>Upper East</td>\n",
       "      <td>None</td>\n",
       "      <td>None</td>\n",
       "      <td>Region</td>\n",
       "      <td>Region</td>\n",
       "      <td>None</td>\n",
       "      <td>GH.UE</td>\n",
       "      <td>107.620941</td>\n",
       "    </tr>\n",
       "    <tr>\n",
       "      <th>Upper West</th>\n",
       "      <td>POLYGON ((-2.79028821 10.1286993, -2.79017377 ...</td>\n",
       "      <td>GHA</td>\n",
       "      <td>Ghana</td>\n",
       "      <td>GHA.8_1</td>\n",
       "      <td>Upper West</td>\n",
       "      <td>None</td>\n",
       "      <td>None</td>\n",
       "      <td>Region</td>\n",
       "      <td>Region</td>\n",
       "      <td>None</td>\n",
       "      <td>GH.UW</td>\n",
       "      <td>64.355855</td>\n",
       "    </tr>\n",
       "    <tr>\n",
       "      <th>Volta</th>\n",
       "      <td>(POLYGON ((0.9270840299999999 6.00625086, 0.92...</td>\n",
       "      <td>GHA</td>\n",
       "      <td>Ghana</td>\n",
       "      <td>GHA.9_1</td>\n",
       "      <td>Volta</td>\n",
       "      <td>None</td>\n",
       "      <td>None</td>\n",
       "      <td>Region</td>\n",
       "      <td>Region</td>\n",
       "      <td>None</td>\n",
       "      <td>GH.TV</td>\n",
       "      <td>73.124894</td>\n",
       "    </tr>\n",
       "    <tr>\n",
       "      <th>Western</th>\n",
       "      <td>(POLYGON ((-1.73680604 4.88764, -1.73680604 4....</td>\n",
       "      <td>GHA</td>\n",
       "      <td>Ghana</td>\n",
       "      <td>GHA.10_1</td>\n",
       "      <td>Western</td>\n",
       "      <td>None</td>\n",
       "      <td>None</td>\n",
       "      <td>Region</td>\n",
       "      <td>Region</td>\n",
       "      <td>None</td>\n",
       "      <td>GH.WP</td>\n",
       "      <td>104.618161</td>\n",
       "    </tr>\n",
       "  </tbody>\n",
       "</table>\n",
       "</div>"
      ],
      "text/plain": [
       "                                                        geometry GID_0 NAME_0  \\\n",
       "Ashanti        POLYGON ((-1.54144502 5.93492079, -1.55517495 ...   GHA  Ghana   \n",
       "Brong Ahafo    POLYGON ((-1.32043099 7.59765482, -1.33174598 ...   GHA  Ghana   \n",
       "Central        (POLYGON ((-0.65097302 5.32708216, -0.65208298...   GHA  Ghana   \n",
       "Eastern        POLYGON ((-0.15025599 5.76964903, -0.164995 5....   GHA  Ghana   \n",
       "Greater Accra  (POLYGON ((0.43625 5.83874989, 0.43625 5.83819...   GHA  Ghana   \n",
       "Northern       POLYGON ((-1.93357694 8.208468440000001, -1.94...   GHA  Ghana   \n",
       "Upper East     POLYGON ((-1.49338496 10.44206047, -1.49012804...   GHA  Ghana   \n",
       "Upper West     POLYGON ((-2.79028821 10.1286993, -2.79017377 ...   GHA  Ghana   \n",
       "Volta          (POLYGON ((0.9270840299999999 6.00625086, 0.92...   GHA  Ghana   \n",
       "Western        (POLYGON ((-1.73680604 4.88764, -1.73680604 4....   GHA  Ghana   \n",
       "\n",
       "                  GID_1         NAME_1 VARNAME_1 NL_NAME_1  TYPE_1 ENGTYPE_1  \\\n",
       "Ashanti         GHA.1_1        Ashanti      None      None  Region    Region   \n",
       "Brong Ahafo     GHA.2_1    Brong Ahafo      None      None  Region    Region   \n",
       "Central         GHA.3_1        Central      None      None  Region    Region   \n",
       "Eastern         GHA.4_1        Eastern      None      None  Region    Region   \n",
       "Greater Accra   GHA.5_1  Greater Accra      None      None  Region    Region   \n",
       "Northern        GHA.6_1       Northern      None      None  Region    Region   \n",
       "Upper East      GHA.7_1     Upper East      None      None  Region    Region   \n",
       "Upper West      GHA.8_1     Upper West      None      None  Region    Region   \n",
       "Volta           GHA.9_1          Volta      None      None  Region    Region   \n",
       "Western        GHA.10_1        Western      None      None  Region    Region   \n",
       "\n",
       "               CC_1 HASC_1  mean_food_exp  \n",
       "Ashanti        None  GH.AH      99.573655  \n",
       "Brong Ahafo    None  GH.BA      68.586961  \n",
       "Central        None  GH.CP     102.182534  \n",
       "Eastern        None  GH.EP      90.882314  \n",
       "Greater Accra  None  GH.AA     130.919955  \n",
       "Northern       None  GH.NP      94.294814  \n",
       "Upper East     None  GH.UE     107.620941  \n",
       "Upper West     None  GH.UW      64.355855  \n",
       "Volta          None  GH.TV      73.124894  \n",
       "Western        None  GH.WP     104.618161  "
      ]
     },
     "execution_count": 135,
     "metadata": {},
     "output_type": "execute_result"
    }
   ],
   "source": [
    "regions_merged.head(10)"
   ]
  },
  {
   "cell_type": "code",
   "execution_count": null,
   "metadata": {},
   "outputs": [],
   "source": [
    "regions_merged.plot(column = 'mean_food_exp', legend = True, figsize = [20,20])\n",
    "plt.title('Average household food expenditure - Ghana', fontdict={'fontsize': 15});\n",
    "plt.xticks([])\n",
    "plt.yticks([])\n",
    "plt.show()"
   ]
  },
  {
   "cell_type": "code",
   "execution_count": 143,
   "metadata": {},
   "outputs": [
    {
     "name": "stderr",
     "output_type": "stream",
     "text": [
      "C:\\ProgramData\\Anaconda3\\lib\\site-packages\\matplotlib\\text.py:2096: UserWarning: You have used the `textcoords` kwarg, but not the `xytext` kwarg.  This can lead to surprising results.\n",
      "  warnings.warn(\"You have used the `textcoords` kwarg, but not \"\n"
     ]
    },
    {
     "data": {
      "image/png": "[encoded data removed]",
      "text/plain": [
       "<Figure size 1440x1440 with 2 Axes>"
      ]
     },
     "metadata": {
      "needs_background": "light"
     },
     "output_type": "display_data"
    }
   ],
   "source": [
    "regions_merged.plot(column = 'mean_food_exp', legend = True, figsize = [20,20])\n",
    "plt2.title('Average household food expenditure - Ghana', fontdict={'fontsize': 20});\n",
    "plt2.xticks([])\n",
    "plt2.yticks([])\n",
    "plt2.annotate('Source: Ghana - Socioeconomic Panel Survey 2009-2010', xy=(0.1, 0.1), size=15, xycoords='axes fraction', textcoords='offset points', va='top')\n",
    "plt2.gca().axes.get_yaxis().set_visible(False)\n",
    "plt2.show()"
   ]
  }
 ],
 "metadata": {
  "kernelspec": {
   "display_name": "Python 3",
   "language": "python",
   "name": "python3"
  },
  "language_info": {
   "codemirror_mode": {
    "name": "ipython",
    "version": 3
   },
   "file_extension": ".py",
   "mimetype": "text/x-python",
   "name": "python",
   "nbconvert_exporter": "python",
   "pygments_lexer": "ipython3",
   "version": "3.6.8"
  }
 },
 "nbformat": 4,
 "nbformat_minor": 2
}
