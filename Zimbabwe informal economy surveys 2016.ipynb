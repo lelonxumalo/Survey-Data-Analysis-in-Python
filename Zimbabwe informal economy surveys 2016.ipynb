{
 "cells": [
  {
   "cell_type": "markdown",
   "metadata": {},
   "source": [
    "# Zimbabwe"
   ]
  },
  {
   "cell_type": "markdown",
   "metadata": {},
   "source": [
    "## Zimbabwe enterprise surveys\n",
    "\n",
    "The data below is from the Nigeria General Household Survey - Wave 3 (2015-2016). It's [available](http://microdata.worldbank.org/index.php/catalog/2936/datafile/F11) on the WB Microdata Library.\n",
    "\n",
    "With household survey data, sample weights are important to generalize from the sample to the population.\n",
    "\n",
    "- **Objective: Calculate and visualize average food consumption across Nigeria's regions**"
   ]
  },
  {
   "cell_type": "code",
   "execution_count": 195,
   "metadata": {
    "scrolled": true
   },
   "outputs": [
    {
     "name": "stdout",
     "output_type": "stream",
     "text": [
      "Populating the interactive namespace from numpy and matplotlib\n"
     ]
    },
    {
     "name": "stderr",
     "output_type": "stream",
     "text": [
      "C:\\ProgramData\\Anaconda3\\lib\\site-packages\\IPython\\core\\magics\\pylab.py:160: UserWarning: pylab import has clobbered these variables: ['plt']\n",
      "`%matplotlib` prevents importing * from pylab and numpy\n",
      "  \"\\n`%matplotlib` prevents importing * from pylab and numpy\"\n"
     ]
    }
   ],
   "source": [
    "import pandas as pd\n",
    "import numpy as np\n",
    "import geopandas as gpd\n",
    "import requests\n",
    "from shapely.geometry import Point\n",
    "import pylab as plt\n",
    "%pylab inline\n",
    "import seaborn as sns\n",
    "import mplleaflet as mpll\n",
    "import osmnx as ox\n",
    "from IPython.display import Image\n",
    "import matplotlib.pyplot as plt2"
   ]
  },
  {
   "cell_type": "code",
   "execution_count": 48,
   "metadata": {
    "scrolled": true
   },
   "outputs": [
    {
     "data": {
      "text/plain": [
       "<matplotlib.axes._subplots.AxesSubplot at 0x244148b99e8>"
      ]
     },
     "execution_count": 48,
     "metadata": {},
     "output_type": "execute_result"
    },
    {
     "data": {
      "image/png": "[encoded data removed]",
      "text/plain": [
       "<Figure size 432x288 with 1 Axes>"
      ]
     },
     "metadata": {
      "needs_background": "light"
     },
     "output_type": "display_data"
    }
   ],
   "source": [
    "zimbabwe_GADM = gpd.read_file('data/zimbabwe/gadm36_ZWE_1.shp')\n",
    "zimbabwe_GADM.plot()"
   ]
  },
  {
   "cell_type": "code",
   "execution_count": 50,
   "metadata": {
    "scrolled": true
   },
   "outputs": [
    {
     "data": {
      "text/html": [
       "<div>\n",
       "<style scoped>\n",
       "    .dataframe tbody tr th:only-of-type {\n",
       "        vertical-align: middle;\n",
       "    }\n",
       "\n",
       "    .dataframe tbody tr th {\n",
       "        vertical-align: top;\n",
       "    }\n",
       "\n",
       "    .dataframe thead th {\n",
       "        text-align: right;\n",
       "    }\n",
       "</style>\n",
       "<table border=\"1\" class=\"dataframe\">\n",
       "  <thead>\n",
       "    <tr style=\"text-align: right;\">\n",
       "      <th></th>\n",
       "      <th>GID_0</th>\n",
       "      <th>NAME_0</th>\n",
       "      <th>GID_1</th>\n",
       "      <th>NAME_1</th>\n",
       "      <th>VARNAME_1</th>\n",
       "      <th>NL_NAME_1</th>\n",
       "      <th>TYPE_1</th>\n",
       "      <th>ENGTYPE_1</th>\n",
       "      <th>CC_1</th>\n",
       "      <th>HASC_1</th>\n",
       "      <th>geometry</th>\n",
       "    </tr>\n",
       "  </thead>\n",
       "  <tbody>\n",
       "    <tr>\n",
       "      <th>0</th>\n",
       "      <td>ZWE</td>\n",
       "      <td>Zimbabwe</td>\n",
       "      <td>ZWE.1_1</td>\n",
       "      <td>Bulawayo</td>\n",
       "      <td>None</td>\n",
       "      <td>None</td>\n",
       "      <td>City</td>\n",
       "      <td>City</td>\n",
       "      <td>None</td>\n",
       "      <td>ZW.BU</td>\n",
       "      <td>POLYGON ((28.61305046 -20.23587036, 28.6044006...</td>\n",
       "    </tr>\n",
       "    <tr>\n",
       "      <th>1</th>\n",
       "      <td>ZWE</td>\n",
       "      <td>Zimbabwe</td>\n",
       "      <td>ZWE.2_1</td>\n",
       "      <td>Harare</td>\n",
       "      <td>None</td>\n",
       "      <td>None</td>\n",
       "      <td>City</td>\n",
       "      <td>City</td>\n",
       "      <td>None</td>\n",
       "      <td>ZW.HA</td>\n",
       "      <td>POLYGON ((31.08852005 -17.66624832, 31.1103801...</td>\n",
       "    </tr>\n",
       "  </tbody>\n",
       "</table>\n",
       "</div>"
      ],
      "text/plain": [
       "  GID_0    NAME_0    GID_1    NAME_1 VARNAME_1 NL_NAME_1 TYPE_1 ENGTYPE_1  \\\n",
       "0   ZWE  Zimbabwe  ZWE.1_1  Bulawayo      None      None   City      City   \n",
       "1   ZWE  Zimbabwe  ZWE.2_1    Harare      None      None   City      City   \n",
       "\n",
       "   CC_1 HASC_1                                           geometry  \n",
       "0  None  ZW.BU  POLYGON ((28.61305046 -20.23587036, 28.6044006...  \n",
       "1  None  ZW.HA  POLYGON ((31.08852005 -17.66624832, 31.1103801...  "
      ]
     },
     "execution_count": 50,
     "metadata": {},
     "output_type": "execute_result"
    }
   ],
   "source": [
    "zimbabwe_GADM.head(2)"
   ]
  },
  {
   "cell_type": "code",
   "execution_count": 56,
   "metadata": {},
   "outputs": [
    {
     "data": {
      "text/plain": [
       "Mashonaland West       1\n",
       "Matabeleland South     1\n",
       "Mashonaland East       1\n",
       "Masvingo               1\n",
       "Harare                 1\n",
       "Manicaland             1\n",
       "Midlands               1\n",
       "Bulawayo               1\n",
       "Matabeleland North     1\n",
       "Mashonaland Central    1\n",
       "Name: NAME_1, dtype: int64"
      ]
     },
     "execution_count": 56,
     "metadata": {},
     "output_type": "execute_result"
    }
   ],
   "source": [
    "# List GADM regions for Zimbabwe\n",
    "zimbabwe_GADM['NAME_1'].value_counts()"
   ]
  }
 ],
 "metadata": {
  "kernelspec": {
   "display_name": "Python 3",
   "language": "python",
   "name": "python3"
  },
  "language_info": {
   "codemirror_mode": {
    "name": "ipython",
    "version": 3
   },
   "file_extension": ".py",
   "mimetype": "text/x-python",
   "name": "python",
   "nbconvert_exporter": "python",
   "pygments_lexer": "ipython3",
   "version": "3.7.3"
  }
 },
 "nbformat": 4,
 "nbformat_minor": 2
}
